{
  "cells": [
    {
      "cell_type": "markdown",
      "metadata": {
        "id": "view-in-github",
        "colab_type": "text"
      },
      "source": [
        "<a href=\"https://colab.research.google.com/github/ellen107/bilingual_mnist/blob/main/bilingual.ipynb\" target=\"_parent\"><img src=\"https://colab.research.google.com/assets/colab-badge.svg\" alt=\"Open In Colab\"/></a>"
      ]
    },
    {
      "cell_type": "code",
      "execution_count": null,
      "metadata": {
        "colab": {
          "base_uri": "https://localhost:8080/"
        },
        "id": "3OdH3UWJYGUU",
        "outputId": "e5ebef71-2f8d-4a5f-cba6-1ecf10f4e20a"
      },
      "outputs": [
        {
          "name": "stdout",
          "output_type": "stream",
          "text": [
            "Mounted at /content/drive\n"
          ]
        }
      ],
      "source": [
        "import pandas as pd\n",
        "import numpy as np\n",
        "import sys\n",
        "import os\n",
        "import cv2 as cv\n",
        "import random\n",
        "from pathlib import Path\n",
        "import imageio\n",
        "import skimage\n",
        "import skimage.io\n",
        "import skimage.transform \n",
        "import matplotlib.pyplot as plt\n",
        "import scipy\n",
        "from sklearn.model_selection import train_test_split\n",
        "from sklearn import metrics\n",
        "from tensorflow import keras\n",
        "from keras import optimizers\n",
        "from keras.models import Sequential\n",
        "from keras.layers import Dense, Conv2D, Flatten, MaxPool2D, Dropout, BatchNormalization\n",
        "from keras.preprocessing.image import ImageDataGenerator\n",
        "from keras.callbacks import ModelCheckpoint, Callback\n",
        "from keras.utils import to_categorical\n",
        "import warnings\n",
        "warnings.filterwarnings(\"ignore\", category=DeprecationWarning)\n",
        "import tensorflow\n",
        "from google.colab import drive\n",
        "drive.mount('/content/drive')"
      ]
    },
    {
      "cell_type": "code",
      "execution_count": null,
      "metadata": {
        "colab": {
          "base_uri": "https://localhost:8080/"
        },
        "id": "aSQNF-H-YxfR",
        "outputId": "a167a4d0-3a65-49e7-905d-be23f437ca7a"
      },
      "outputs": [
        {
          "name": "stdout",
          "output_type": "stream",
          "text": [
            "Cloning into 'bilingual_mnist'...\n",
            "remote: Enumerating objects: 75037, done.\u001b[K\n",
            "remote: Counting objects: 100% (75037/75037), done.\u001b[K\n",
            "remote: Compressing objects: 100% (75034/75034), done.\u001b[K\n",
            "remote: Total 75037 (delta 1), reused 75031 (delta 1), pack-reused 0\n",
            "Receiving objects: 100% (75037/75037), 20.00 MiB | 27.09 MiB/s, done.\n",
            "Resolving deltas: 100% (1/1), done.\n",
            "Checking out files: 100% (75015/75015), done.\n"
          ]
        }
      ],
      "source": [
        "!git clone https://github.com/ellen107/bilingual_mnist.git"
      ]
    },
    {
      "cell_type": "code",
      "execution_count": null,
      "metadata": {
        "colab": {
          "base_uri": "https://localhost:8080/"
        },
        "id": "rHOJgLXpZcIf",
        "outputId": "a7f48e71-ce27-46bd-8eca-187dbc24834d"
      },
      "outputs": [
        {
          "name": "stdout",
          "output_type": "stream",
          "text": [
            "/content/bilingual_mnist\n"
          ]
        }
      ],
      "source": [
        "%cd /content/bilingual_mnist"
      ]
    },
    {
      "cell_type": "code",
      "execution_count": null,
      "metadata": {
        "id": "tdZxpLWcjaoE"
      },
      "outputs": [],
      "source": [
        "IMAGE_PATH = '/content/bilingual_mnist/bilingual_data/'\n",
        "LABELS = [0,1,2,3,4,5,6,7,8,9,10,100,1000,10000,100000000]\n",
        "IMAGE_WIDTH = 28\n",
        "IMAGE_HEIGHT = 28\n",
        "IMAGE_CHANNELS = 1\n",
        "RANDOM_STATE = 42\n",
        "TEST_SIZE = 0.2\n",
        "VAL_SIZE = 0.2\n",
        "CONV_2D_DIM_1 = 16\n",
        "CONV_2D_DIM_2 = 16\n",
        "CONV_2D_DIM_3 = 32\n",
        "CONV_2D_DIM_4 = 64\n",
        "MAX_POOL_DIM = 2\n",
        "KERNEL_SIZE = 3\n",
        "BATCH_SIZE = 32\n",
        "NO_EPOCHS_1 = 5\n",
        "NO_EPOCHS_2 = 10\n",
        "NO_EPOCHS_3 = 50\n",
        "PATIENCE = 5\n",
        "VERBOSE = 1\n"
      ]
    },
    {
      "cell_type": "code",
      "execution_count": null,
      "metadata": {
        "colab": {
          "base_uri": "https://localhost:8080/"
        },
        "id": "vpKDMyd1k4AA",
        "outputId": "95acec32-a262-4e31-df23-65b4cb6a4074"
      },
      "outputs": [
        {
          "data": {
            "text/plain": [
              "['100',\n",
              " '2',\n",
              " '9',\n",
              " '4',\n",
              " '8',\n",
              " '7',\n",
              " '.DS_Store',\n",
              " '1',\n",
              " '100000000',\n",
              " '10',\n",
              " '3',\n",
              " '0',\n",
              " '5',\n",
              " '6',\n",
              " '10000',\n",
              " '1000']"
            ]
          },
          "execution_count": 5,
          "metadata": {},
          "output_type": "execute_result"
        }
      ],
      "source": [
        "os.listdir(\"/content/bilingual_mnist/bilingual_data/\")"
      ]
    },
    {
      "cell_type": "code",
      "execution_count": null,
      "metadata": {
        "id": "rzKsZgwDlS9v"
      },
      "outputs": [],
      "source": [
        "X = []\n",
        "Y = []\n",
        "def assign_label(img,label):\n",
        "    return label\n",
        "\n",
        "def make_train_data(label,DIR):\n",
        "    for img in os.listdir(DIR):\n",
        "        label=assign_label(img,label)\n",
        "        path = os.path.join(DIR,img)\n",
        "        img = cv.imread(path,cv.IMREAD_COLOR)\n",
        "        #img = cv.resize(img, (IMAGE_WIDTH,IMAGE_HEIGHT))\n",
        "    \n",
        "        X.append(np.array(img))\n",
        "        Y.append(str(label))\n",
        "\n",
        "for i in LABELS:\n",
        "  make_train_data(str(i),IMAGE_PATH+str(i))\n",
        "\n",
        "# USE A LABELENCODER IF YOU WANT HERE\n",
        "\n",
        "holder = zip(X, Y)\n"
      ]
    },
    {
      "cell_type": "code",
      "execution_count": null,
      "metadata": {
        "id": "UzsGAJQgqjVE"
      },
      "outputs": [],
      "source": [
        "#split into training and test data; 80% and 20%\n",
        "data_train, data_test, labels_train, labels_test = train_test_split(X, Y, test_size=TEST_SIZE, random_state=RANDOM_STATE)"
      ]
    },
    {
      "cell_type": "code",
      "execution_count": null,
      "metadata": {
        "id": "XSBez1gjqq2_"
      },
      "outputs": [],
      "source": [
        "#split training into train and validation\n",
        "data_train, data_val = train_test_split(data_train, test_size=VAL_SIZE, random_state=RANDOM_STATE)"
      ]
    },
    {
      "cell_type": "code",
      "execution_count": null,
      "metadata": {
        "id": "Ey2CvuH0qryx"
      },
      "outputs": [],
      "source": [
        "print(\"Train set rows: {}\".format(len(data_train)))\n",
        "print(\"Test  set rows: {}\".format(len(data_test)))\n",
        "print(\"Val   set rows: {}\".format(len(data_val)))"
      ]
    },
    {
      "cell_type": "code",
      "execution_count": null,
      "metadata": {
        "id": "svFjqhPVr9QQ"
      },
      "outputs": [],
      "source": [
        "print(\"========================== Visualizing Data ==========================\")\n",
        "fig = plt.figure(figsize=(8, 8))\n",
        "fig.subplots_adjust(left=0, right=1, bottom=0, top=1, hspace=0.05, wspace=0.05)\n",
        "\n",
        "# plot the digits: each image is 28x28 pixels\n",
        "for i in range(64):\n",
        "    ax = fig.add_subplot(8, 8, i + 1, xticks=[], yticks=[])\n",
        "    ax.imshow(data_test[i], cmap=plt.cm.binary, interpolation='nearest')\n",
        "    \n",
        "    # label the image with the target value\n",
        "    ax.text(0, 7, str(labels_test[i]))\n",
        "plt.show()"
      ]
    },
    {
      "cell_type": "code",
      "execution_count": null,
      "metadata": {
        "id": "NuB7_Oirtg8K"
      },
      "outputs": [],
      "source": [
        "# Creating model\n",
        "print(\"========================== Creating a model ==========================\")\n",
        "model = keras.models.Sequential([\n",
        "                                 keras.layers.Conv2D(64,(3,3),activation='relu',input_shape=(28,28,1)),\n",
        "                                 keras.layers.MaxPool2D(2,2),\n",
        "                                 keras.layers.Flatten(),\n",
        "                                 keras.layers.Dense(28,activation='relu'),\n",
        "                                 keras.layers.Dense(10,activation='softmax')\n",
        "])\n",
        "print(\"\")\n",
        "print(\"============================ modelSummary ============================\")\n",
        "print(model.summary())"
      ]
    },
    {
      "cell_type": "code",
      "execution_count": null,
      "metadata": {
        "id": "wknADa89uFzI"
      },
      "outputs": [],
      "source": [
        "# Model Compile\n",
        "print(\"========================== Compiling  model ==========================\")\n",
        "model.compile(optimizer='adam',metrics=['acc'],loss='sparse_categorical_crossentropy')\n",
        "print(\"\")\n",
        "print(\"========================== Model's Compiled ==========================\")\n",
        "# Accuracy Callback\n",
        "class handwriting_acc_callback(keras.callbacks.Callback):\n",
        "  def on_epoch_end(self,epoch,logs={}):\n",
        "    if(logs.get('acc')>=0.9):\n",
        "       print(\"\\n Model has reached 90% accuracy! Congratulations !!!!!\")\n",
        "       self.model.stop_training = True\n",
        "\n",
        "handwriting_acc_callback = handwriting_acc_callback()\n",
        "print(\"\")"
      ]
    },
    {
      "cell_type": "code",
      "execution_count": null,
      "metadata": {
        "id": "wGmGMJfKFHgp"
      },
      "outputs": [],
      "source": [
        "model.fit(data_train,labels_train,epochs=3,callbacks=[handwriting_acc_callback], validation_data=data_val\n",
        "          )"
      ]
    },
    {
      "cell_type": "code",
      "execution_count": null,
      "metadata": {
        "colab": {
          "background_save": true
        },
        "id": "5cZdamnuuRbP"
      },
      "outputs": [],
      "source": [
        "# Model Fitting\n",
        "print(\"============================= Model- Fit =============================\")\n",
        "model.fit(data_train,labels_train,epochs=3,callbacks=[handwriting_acc_callback])\n",
        "print(\"\")\n",
        "# Model Evaluation\n",
        "print(\"========================== Model Evaluation ==========================\")\n",
        "model.evaluate(data_test,labels_test)\n",
        "print(\"\")\n",
        "print(\"======================================================================\")\n",
        "print(\"======================================================================\")\n",
        "print(\"======= Congratulations model was succesful with >90% accuracy =======\")\n",
        "print(\"======================================================================\")\n",
        "print(\"======================================================================\")\n",
        "print(\"\")\n",
        "print(\"================= Now goahead and run the next cell! =================\")"
      ]
    }
  ],
  "metadata": {
    "colab": {
      "provenance": [],
      "include_colab_link": true
    },
    "kernelspec": {
      "display_name": "Python 3",
      "name": "python3"
    },
    "language_info": {
      "name": "python"
    }
  },
  "nbformat": 4,
  "nbformat_minor": 0
}